{
 "cells": [
  {
   "cell_type": "markdown",
   "id": "3bc6fb39-d907-4ee8-9546-1c60636abe3c",
   "metadata": {},
   "source": [
    "## Align img timestamps to LocationOutput&Time"
   ]
  },
  {
   "cell_type": "code",
   "execution_count": 2,
   "id": "ed77dafa-a39d-4f1e-9cef-b77eca46d4ea",
   "metadata": {},
   "outputs": [],
   "source": [
    "import pandas as pd"
   ]
  },
  {
   "cell_type": "code",
   "execution_count": 8,
   "id": "8ac4e82a-7048-457b-b039-fb49f889082d",
   "metadata": {},
   "outputs": [],
   "source": [
    "# Read CSV files into Pandas DataFrames\n",
    "aligned = pd.read_csv('Z:\\\\CHRYSA\\\\WMT_UCLA\\\\R2\\\\R2_DAT1\\\\all\\\\behav\\\\R2_DAT1_downsampled_LocationOutput&Time.csv')\n",
    "img_timestamps = pd.read_csv('Z:\\\\CHRYSA\\\\WMT_UCLA\\\\R2\\\\R2_DAT1\\\\all\\\\img\\\\1_timeStamps.csv')\n",
    "\n",
    "# Define a function to find the closest timestamp in img_timestamps for a given timestamp in aligned\n",
    "def find_closest_frame(row):\n",
    "    timestamp_aligned = row['Time Stamp (ms)']\n",
    "    closest_row = img_timestamps.iloc[(img_timestamps['Time Stamp (ms)'] - timestamp_aligned).abs().argsort()[:1]]\n",
    "    return closest_row['Frame Number'].values[0] if not closest_row.empty else None\n",
    "\n",
    "# Apply the function to create a new column in aligned\n",
    "aligned['img Frame Number'] = aligned.apply(find_closest_frame, axis=1)\n",
    "\n",
    "# Save the merged DataFrame to a new CSV file\n",
    "aligned.to_csv('Z:\\\\CHRYSA\\\\WMT_UCLA\\\\R2\\\\R2_DAT1\\\\all\\\\aligned_timestamps.csv', index=False)\n",
    "\n",
    "\n"
   ]
  },
  {
   "cell_type": "code",
   "execution_count": null,
   "id": "f967c70c-84cf-4f30-9699-ace5e2a2ccae",
   "metadata": {},
   "outputs": [],
   "source": []
  }
 ],
 "metadata": {
  "kernelspec": {
   "display_name": "Python 3 (ipykernel)",
   "language": "python",
   "name": "python3"
  },
  "language_info": {
   "codemirror_mode": {
    "name": "ipython",
    "version": 3
   },
   "file_extension": ".py",
   "mimetype": "text/x-python",
   "name": "python",
   "nbconvert_exporter": "python",
   "pygments_lexer": "ipython3",
   "version": "3.11.5"
  }
 },
 "nbformat": 4,
 "nbformat_minor": 5
}
