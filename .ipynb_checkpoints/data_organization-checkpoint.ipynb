{
 "cells": [
  {
   "cell_type": "code",
   "execution_count": 1,
   "id": "cf916879-a88d-4166-bbce-977e38232df4",
   "metadata": {},
   "outputs": [
    {
     "ename": "ModuleNotFoundError",
     "evalue": "No module named 'cv2'",
     "output_type": "error",
     "traceback": [
      "\u001b[1;31m---------------------------------------------------------------------------\u001b[0m",
      "\u001b[1;31mModuleNotFoundError\u001b[0m                       Traceback (most recent call last)",
      "Cell \u001b[1;32mIn[1], line 7\u001b[0m\n\u001b[0;32m      5\u001b[0m get_ipython()\u001b[38;5;241m.\u001b[39msystem(\u001b[38;5;124m'\u001b[39m\u001b[38;5;124mpip install natsort\u001b[39m\u001b[38;5;124m'\u001b[39m)\n\u001b[0;32m      6\u001b[0m \u001b[38;5;28;01mfrom\u001b[39;00m \u001b[38;5;21;01mnatsort\u001b[39;00m \u001b[38;5;28;01mimport\u001b[39;00m natsorted\n\u001b[1;32m----> 7\u001b[0m \u001b[38;5;28;01mimport\u001b[39;00m \u001b[38;5;21;01mcv2\u001b[39;00m\n\u001b[0;32m      8\u001b[0m \u001b[38;5;28;01mimport\u001b[39;00m \u001b[38;5;21;01mdata_organization2_functions\u001b[39;00m \u001b[38;5;28;01mas\u001b[39;00m \u001b[38;5;21;01mdataOrg\u001b[39;00m\n",
      "\u001b[1;31mModuleNotFoundError\u001b[0m: No module named 'cv2'"
     ]
    }
   ],
   "source": [
    "%%capture\n",
    "%load_ext autoreload\n",
    "%autoreload 2\n",
    "import os\n",
    "import shutil\n",
    "from natsort import natsorted\n",
    "import cv2\n",
    "import data_organization2_functions as dataOrg"
   ]
  },
  {
   "cell_type": "markdown",
   "id": "e0080b5b",
   "metadata": {},
   "source": [
    "## 1. Set directory and save parameters:"
   ]
  },
  {
   "cell_type": "markdown",
   "id": "38c38f46",
   "metadata": {},
   "source": [
    "Set the `parent_folders` which should include multiple subfolders containing imaging and behavior data folders. Ensure consistent naming of data folders using `data_folder_names` (such as 'behav' and 'img').\n",
    "\n",
    "<div class=\"alert alert-info\">\n",
    "<strong>folder structure</strong>\n",
    "\n",
    "```\n",
    "Mouse1  [parent_folder]\n",
    "└─────11_30_00   [subfolder within parent_folder]\n",
    "│       │   behav  [data_folder_names]\n",
    "│       │   img    [data_folder_names]\n",
    "│    \n",
    "└─────11_45_00   [subfolder within parent_folder]\n",
    "│       │   behav  [data_folder_names]\n",
    "│       │   img    [data_folder_names]\n",
    "\n",
    "```\n",
    "</div>"
   ]
  },
  {
   "cell_type": "code",
   "execution_count": 24,
   "id": "50fa9946",
   "metadata": {},
   "outputs": [
    {
     "name": "stdout",
     "output_type": "stream",
     "text": [
      "['B2_DAT1', 'L1_DAT1']\n"
     ]
    }
   ],
   "source": [
    "parent_folders = ['Z:\\\\CHRYSA\\\\WMT_UCLA\\\\DAT1\\\\B2_DAT1',\n",
    "                  'Z:\\\\CHRYSA\\\\WMT_UCLA\\\\DAT1\\\\L1_DAT1'\n",
    "                 ]\n",
    "\n",
    "data_folder_names = ['behav','img']\n",
    "\n",
    "output_folder_name = \"all\"\n",
    "\n",
    "filetype= 'avi'\n",
    "\n",
    "\n",
    "#If the saveas_name isn't right, try alternate folder name extraction to get differen part of path name\n",
    "#saveas_name=dataOrg.get_basenames_of_folders_within_parent_folder(parent_folders) #extracts the name of folder containing img and behav to use for naming merged files\n",
    "\n",
    "#If the saveas_name isn't right, try alternate folder name extraction to get differen part of path name\n",
    "saveas_name=dataOrg.get_basenames_of_folders_within_parent_folder_chrysa(parent_folders)\n",
    "\n",
    "print(saveas_name)"
   ]
  },
  {
   "cell_type": "markdown",
   "id": "19720c21",
   "metadata": {},
   "source": [
    "## 2. Rename behavior and imaging files: "
   ]
  },
  {
   "cell_type": "markdown",
   "id": "9fc1eecf",
   "metadata": {},
   "source": [
    "Subfolders within `parent_folders` will be categorized and given an index. Within each subfolder, ensure consistent naming of subfolders using `data_folder_names` (such as 'behav' and 'img') where the files requiring renaming are stored. The renaming process will be based on the assigned subfolder index."
   ]
  },
  {
   "cell_type": "code",
   "execution_count": 25,
   "id": "5c1ea6fe",
   "metadata": {},
   "outputs": [
    {
     "name": "stdout",
     "output_type": "stream",
     "text": [
      "File renaming complete.\n"
     ]
    }
   ],
   "source": [
    "dataOrg.rename_files_with_prefix(parent_folders, data_folder_names)"
   ]
  },
  {
   "cell_type": "markdown",
   "id": "719b910f",
   "metadata": {},
   "source": [
    "## 3. Consolidate re-named files into `output_folder`:"
   ]
  },
  {
   "cell_type": "code",
   "execution_count": 26,
   "id": "fd453b30",
   "metadata": {},
   "outputs": [
    {
     "ename": "OSError",
     "evalue": "[Errno 22] Invalid argument",
     "output_type": "error",
     "traceback": [
      "\u001b[1;31m---------------------------------------------------------------------------\u001b[0m",
      "\u001b[1;31mOSError\u001b[0m                                   Traceback (most recent call last)",
      "Cell \u001b[1;32mIn[26], line 4\u001b[0m\n\u001b[0;32m      1\u001b[0m data_folder_names \u001b[38;5;241m=\u001b[39m [\u001b[38;5;124m'\u001b[39m\u001b[38;5;124mbehav\u001b[39m\u001b[38;5;124m'\u001b[39m,\u001b[38;5;124m'\u001b[39m\u001b[38;5;124mimg\u001b[39m\u001b[38;5;124m'\u001b[39m]\n\u001b[0;32m      2\u001b[0m output_folder_name \u001b[38;5;241m=\u001b[39m \u001b[38;5;124m\"\u001b[39m\u001b[38;5;124mall\u001b[39m\u001b[38;5;124m\"\u001b[39m\n\u001b[1;32m----> 4\u001b[0m \u001b[43mdataOrg\u001b[49m\u001b[38;5;241;43m.\u001b[39;49m\u001b[43mconsolidate_files\u001b[49m\u001b[43m(\u001b[49m\u001b[43mparent_folders\u001b[49m\u001b[43m,\u001b[49m\u001b[43m \u001b[49m\u001b[43mdata_folder_names\u001b[49m\u001b[43m,\u001b[49m\u001b[43m \u001b[49m\u001b[43moutput_folder_name\u001b[49m\u001b[43m)\u001b[49m\n",
      "File \u001b[1;32mC:\\Analysis\\Reed-Behaviors\\data_organization1_functions.py:106\u001b[0m, in \u001b[0;36mconsolidate_files\u001b[1;34m(parent_folders, subfolder_names, output_folder_name)\u001b[0m\n\u001b[0;32m    103\u001b[0m \u001b[38;5;28;01mfor\u001b[39;00m filename \u001b[38;5;129;01min\u001b[39;00m os\u001b[38;5;241m.\u001b[39mlistdir(subfolder_path):\n\u001b[0;32m    104\u001b[0m \t\u001b[38;5;66;03m#print(subfolder_path)\u001b[39;00m\n\u001b[0;32m    105\u001b[0m \tfile_path \u001b[38;5;241m=\u001b[39m os\u001b[38;5;241m.\u001b[39mpath\u001b[38;5;241m.\u001b[39mjoin(subfolder_path, filename)\n\u001b[1;32m--> 106\u001b[0m \t\u001b[43mshutil\u001b[49m\u001b[38;5;241;43m.\u001b[39;49m\u001b[43mcopy\u001b[49m\u001b[43m(\u001b[49m\u001b[43mfile_path\u001b[49m\u001b[43m,\u001b[49m\u001b[43m \u001b[49m\u001b[43moutput_subfolder\u001b[49m\u001b[43m)\u001b[49m\n",
      "File \u001b[1;32m~\\AppData\\Local\\mambaforge\\lib\\shutil.py:417\u001b[0m, in \u001b[0;36mcopy\u001b[1;34m(src, dst, follow_symlinks)\u001b[0m\n\u001b[0;32m    415\u001b[0m \u001b[38;5;28;01mif\u001b[39;00m os\u001b[38;5;241m.\u001b[39mpath\u001b[38;5;241m.\u001b[39misdir(dst):\n\u001b[0;32m    416\u001b[0m     dst \u001b[38;5;241m=\u001b[39m os\u001b[38;5;241m.\u001b[39mpath\u001b[38;5;241m.\u001b[39mjoin(dst, os\u001b[38;5;241m.\u001b[39mpath\u001b[38;5;241m.\u001b[39mbasename(src))\n\u001b[1;32m--> 417\u001b[0m \u001b[43mcopyfile\u001b[49m\u001b[43m(\u001b[49m\u001b[43msrc\u001b[49m\u001b[43m,\u001b[49m\u001b[43m \u001b[49m\u001b[43mdst\u001b[49m\u001b[43m,\u001b[49m\u001b[43m \u001b[49m\u001b[43mfollow_symlinks\u001b[49m\u001b[38;5;241;43m=\u001b[39;49m\u001b[43mfollow_symlinks\u001b[49m\u001b[43m)\u001b[49m\n\u001b[0;32m    418\u001b[0m copymode(src, dst, follow_symlinks\u001b[38;5;241m=\u001b[39mfollow_symlinks)\n\u001b[0;32m    419\u001b[0m \u001b[38;5;28;01mreturn\u001b[39;00m dst\n",
      "File \u001b[1;32m~\\AppData\\Local\\mambaforge\\lib\\shutil.py:274\u001b[0m, in \u001b[0;36mcopyfile\u001b[1;34m(src, dst, follow_symlinks)\u001b[0m\n\u001b[0;32m    271\u001b[0m \u001b[38;5;66;03m# Windows, see:\u001b[39;00m\n\u001b[0;32m    272\u001b[0m \u001b[38;5;66;03m# https://github.com/python/cpython/pull/7160#discussion_r195405230\u001b[39;00m\n\u001b[0;32m    273\u001b[0m \u001b[38;5;28;01melif\u001b[39;00m _WINDOWS \u001b[38;5;129;01mand\u001b[39;00m file_size \u001b[38;5;241m>\u001b[39m \u001b[38;5;241m0\u001b[39m:\n\u001b[1;32m--> 274\u001b[0m     \u001b[43m_copyfileobj_readinto\u001b[49m\u001b[43m(\u001b[49m\u001b[43mfsrc\u001b[49m\u001b[43m,\u001b[49m\u001b[43m \u001b[49m\u001b[43mfdst\u001b[49m\u001b[43m,\u001b[49m\u001b[43m \u001b[49m\u001b[38;5;28;43mmin\u001b[39;49m\u001b[43m(\u001b[49m\u001b[43mfile_size\u001b[49m\u001b[43m,\u001b[49m\u001b[43m \u001b[49m\u001b[43mCOPY_BUFSIZE\u001b[49m\u001b[43m)\u001b[49m\u001b[43m)\u001b[49m\n\u001b[0;32m    275\u001b[0m     \u001b[38;5;28;01mreturn\u001b[39;00m dst\n\u001b[0;32m    277\u001b[0m copyfileobj(fsrc, fdst)\n",
      "File \u001b[1;32m~\\AppData\\Local\\mambaforge\\lib\\shutil.py:185\u001b[0m, in \u001b[0;36m_copyfileobj_readinto\u001b[1;34m(fsrc, fdst, length)\u001b[0m\n\u001b[0;32m    183\u001b[0m         fdst\u001b[38;5;241m.\u001b[39mwrite(smv)\n\u001b[0;32m    184\u001b[0m \u001b[38;5;28;01melse\u001b[39;00m:\n\u001b[1;32m--> 185\u001b[0m     \u001b[43mfdst_write\u001b[49m\u001b[43m(\u001b[49m\u001b[43mmv\u001b[49m\u001b[43m)\u001b[49m\n",
      "\u001b[1;31mOSError\u001b[0m: [Errno 22] Invalid argument"
     ]
    }
   ],
   "source": [
    "data_folder_names = ['behav','img']\n",
    "output_folder_name = \"all\"\n",
    "\n",
    "#dataOrg.consolidate_files(parent_folders, data_folder_names, output_folder_name)"
   ]
  },
  {
   "cell_type": "code",
   "execution_count": 33,
   "id": "bf436564-7705-46bd-862a-90cd9c12775a",
   "metadata": {},
   "outputs": [
    {
     "name": "stdout",
     "output_type": "stream",
     "text": [
      "Z:\\CHRYSA\\WMT_UCLA\\DAT1\\B2_DAT1\\all\n",
      "Z:\\CHRYSA\\WMT_UCLA\\DAT1\\B2_DAT1\\all\\behav\n",
      "Z:\\CHRYSA\\WMT_UCLA\\DAT1\\B2_DAT1\\all\\img\n",
      "Z:\\CHRYSA\\WMT_UCLA\\DAT1\\B2_DAT1\\all\\behav\n",
      "Z:\\CHRYSA\\WMT_UCLA\\DAT1\\B2_DAT1\\all\\img\n",
      "Z:\\CHRYSA\\WMT_UCLA\\DAT1\\B2_DAT1\\all\\behav\n",
      "Z:\\CHRYSA\\WMT_UCLA\\DAT1\\B2_DAT1\\all\\img\n",
      "Z:\\CHRYSA\\WMT_UCLA\\DAT1\\B2_DAT1\\all\\behav\n",
      "Z:\\CHRYSA\\WMT_UCLA\\DAT1\\B2_DAT1\\all\\img\n",
      "Z:\\CHRYSA\\WMT_UCLA\\DAT1\\B2_DAT1\\all\\behav\n",
      "Z:\\CHRYSA\\WMT_UCLA\\DAT1\\B2_DAT1\\all\\img\n",
      "Z:\\CHRYSA\\WMT_UCLA\\DAT1\\B2_DAT1\\all\\behav\n",
      "Z:\\CHRYSA\\WMT_UCLA\\DAT1\\B2_DAT1\\all\\img\n",
      "Z:\\CHRYSA\\WMT_UCLA\\DAT1\\B2_DAT1\\all\\behav\n",
      "Z:\\CHRYSA\\WMT_UCLA\\DAT1\\B2_DAT1\\all\\img\n",
      "Z:\\CHRYSA\\WMT_UCLA\\DAT1\\B2_DAT1\\all\\behav\n",
      "Z:\\CHRYSA\\WMT_UCLA\\DAT1\\B2_DAT1\\all\\img\n",
      "Z:\\CHRYSA\\WMT_UCLA\\DAT1\\B2_DAT1\\all\\behav\n",
      "Z:\\CHRYSA\\WMT_UCLA\\DAT1\\B2_DAT1\\all\\img\n",
      "Z:\\CHRYSA\\WMT_UCLA\\DAT1\\B2_DAT1\\all\\behav\n",
      "Z:\\CHRYSA\\WMT_UCLA\\DAT1\\B2_DAT1\\all\\img\n",
      "Z:\\CHRYSA\\WMT_UCLA\\DAT1\\B2_DAT1\\all\\behav\n",
      "Z:\\CHRYSA\\WMT_UCLA\\DAT1\\B2_DAT1\\all\\img\n",
      "Z:\\CHRYSA\\WMT_UCLA\\DAT1\\B2_DAT1\\all\\behav\n",
      "Z:\\CHRYSA\\WMT_UCLA\\DAT1\\B2_DAT1\\all\\img\n",
      "Z:\\CHRYSA\\WMT_UCLA\\DAT1\\B2_DAT1\\all\\behav\n",
      "Z:\\CHRYSA\\WMT_UCLA\\DAT1\\B2_DAT1\\all\\img\n",
      "Z:\\CHRYSA\\WMT_UCLA\\DAT1\\B2_DAT1\\all\\behav\n",
      "Z:\\CHRYSA\\WMT_UCLA\\DAT1\\B2_DAT1\\all\\img\n",
      "Z:\\CHRYSA\\WMT_UCLA\\DAT1\\B2_DAT1\\all\\behav\n",
      "Z:\\CHRYSA\\WMT_UCLA\\DAT1\\B2_DAT1\\all\\img\n",
      "Z:\\CHRYSA\\WMT_UCLA\\DAT1\\B2_DAT1\\all\\behav\n",
      "Z:\\CHRYSA\\WMT_UCLA\\DAT1\\B2_DAT1\\all\\img\n",
      "Z:\\CHRYSA\\WMT_UCLA\\DAT1\\B2_DAT1\\all\\behav\n",
      "Z:\\CHRYSA\\WMT_UCLA\\DAT1\\B2_DAT1\\all\\img\n",
      "Z:\\CHRYSA\\WMT_UCLA\\DAT1\\B2_DAT1\\all\\behav\n",
      "Z:\\CHRYSA\\WMT_UCLA\\DAT1\\B2_DAT1\\all\\img\n",
      "Z:\\CHRYSA\\WMT_UCLA\\DAT1\\B2_DAT1\\all\\behav\n",
      "Z:\\CHRYSA\\WMT_UCLA\\DAT1\\B2_DAT1\\all\\img\n",
      "Z:\\CHRYSA\\WMT_UCLA\\DAT1\\B2_DAT1\\all\\behav\n",
      "Z:\\CHRYSA\\WMT_UCLA\\DAT1\\B2_DAT1\\all\\img\n",
      "Z:\\CHRYSA\\WMT_UCLA\\DAT1\\B2_DAT1\\all\\behav\n",
      "Z:\\CHRYSA\\WMT_UCLA\\DAT1\\B2_DAT1\\all\\img\n",
      "Z:\\CHRYSA\\WMT_UCLA\\DAT1\\B2_DAT1\\all\\behav\n",
      "Z:\\CHRYSA\\WMT_UCLA\\DAT1\\B2_DAT1\\all\\img\n",
      "Z:\\CHRYSA\\WMT_UCLA\\DAT1\\B2_DAT1\\all\\behav\n",
      "Z:\\CHRYSA\\WMT_UCLA\\DAT1\\B2_DAT1\\all\\img\n",
      "Z:\\CHRYSA\\WMT_UCLA\\DAT1\\B2_DAT1\\all\\behav\n",
      "Z:\\CHRYSA\\WMT_UCLA\\DAT1\\B2_DAT1\\all\\img\n",
      "Z:\\CHRYSA\\WMT_UCLA\\DAT1\\B2_DAT1\\all\\behav\n",
      "Z:\\CHRYSA\\WMT_UCLA\\DAT1\\B2_DAT1\\all\\img\n",
      "Z:\\CHRYSA\\WMT_UCLA\\DAT1\\B2_DAT1\\all\\behav\n",
      "Z:\\CHRYSA\\WMT_UCLA\\DAT1\\B2_DAT1\\all\\img\n",
      "Z:\\CHRYSA\\WMT_UCLA\\DAT1\\B2_DAT1\\all\\behav\n",
      "Z:\\CHRYSA\\WMT_UCLA\\DAT1\\B2_DAT1\\all\\img\n",
      "Z:\\CHRYSA\\WMT_UCLA\\DAT1\\B2_DAT1\\all\\behav\n",
      "Z:\\CHRYSA\\WMT_UCLA\\DAT1\\B2_DAT1\\all\\img\n",
      "Z:\\CHRYSA\\WMT_UCLA\\DAT1\\B2_DAT1\\all\\behav\n",
      "Z:\\CHRYSA\\WMT_UCLA\\DAT1\\B2_DAT1\\all\\img\n",
      "Z:\\CHRYSA\\WMT_UCLA\\DAT1\\B2_DAT1\\all\\behav\n",
      "Z:\\CHRYSA\\WMT_UCLA\\DAT1\\B2_DAT1\\all\\img\n",
      "Z:\\CHRYSA\\WMT_UCLA\\DAT1\\B2_DAT1\\all\\behav\n",
      "Z:\\CHRYSA\\WMT_UCLA\\DAT1\\B2_DAT1\\all\\img\n",
      "Z:\\CHRYSA\\WMT_UCLA\\DAT1\\B2_DAT1\\all\\behav\n",
      "Z:\\CHRYSA\\WMT_UCLA\\DAT1\\B2_DAT1\\all\\img\n",
      "Z:\\CHRYSA\\WMT_UCLA\\DAT1\\B2_DAT1\\all\\behav\n",
      "Z:\\CHRYSA\\WMT_UCLA\\DAT1\\B2_DAT1\\all\\img\n",
      "Z:\\CHRYSA\\WMT_UCLA\\DAT1\\B2_DAT1\\all\\behav\n",
      "Z:\\CHRYSA\\WMT_UCLA\\DAT1\\B2_DAT1\\all\\img\n",
      "Z:\\CHRYSA\\WMT_UCLA\\DAT1\\B2_DAT1\\all\\behav\n",
      "Z:\\CHRYSA\\WMT_UCLA\\DAT1\\B2_DAT1\\all\\img\n",
      "Z:\\CHRYSA\\WMT_UCLA\\DAT1\\B2_DAT1\\all\\behav\n",
      "Z:\\CHRYSA\\WMT_UCLA\\DAT1\\B2_DAT1\\all\\img\n",
      "Z:\\CHRYSA\\WMT_UCLA\\DAT1\\B2_DAT1\\all\\behav\n",
      "Z:\\CHRYSA\\WMT_UCLA\\DAT1\\B2_DAT1\\all\\img\n",
      "Z:\\CHRYSA\\WMT_UCLA\\DAT1\\L1_DAT1\\all\n",
      "Z:\\CHRYSA\\WMT_UCLA\\DAT1\\L1_DAT1\\all\\behav\n",
      "Z:\\CHRYSA\\WMT_UCLA\\DAT1\\L1_DAT1\\all\\img\n",
      "Z:\\CHRYSA\\WMT_UCLA\\DAT1\\L1_DAT1\\all\\behav\n",
      "Z:\\CHRYSA\\WMT_UCLA\\DAT1\\L1_DAT1\\all\\img\n",
      "Z:\\CHRYSA\\WMT_UCLA\\DAT1\\L1_DAT1\\all\\behav\n",
      "Z:\\CHRYSA\\WMT_UCLA\\DAT1\\L1_DAT1\\all\\img\n",
      "Z:\\CHRYSA\\WMT_UCLA\\DAT1\\L1_DAT1\\all\\behav\n",
      "Z:\\CHRYSA\\WMT_UCLA\\DAT1\\L1_DAT1\\all\\img\n",
      "Z:\\CHRYSA\\WMT_UCLA\\DAT1\\L1_DAT1\\all\\behav\n",
      "Z:\\CHRYSA\\WMT_UCLA\\DAT1\\L1_DAT1\\all\\img\n",
      "Z:\\CHRYSA\\WMT_UCLA\\DAT1\\L1_DAT1\\all\\behav\n",
      "Z:\\CHRYSA\\WMT_UCLA\\DAT1\\L1_DAT1\\all\\img\n",
      "Z:\\CHRYSA\\WMT_UCLA\\DAT1\\L1_DAT1\\all\\behav\n",
      "Z:\\CHRYSA\\WMT_UCLA\\DAT1\\L1_DAT1\\all\\img\n",
      "Z:\\CHRYSA\\WMT_UCLA\\DAT1\\L1_DAT1\\all\\behav\n",
      "Z:\\CHRYSA\\WMT_UCLA\\DAT1\\L1_DAT1\\all\\img\n"
     ]
    }
   ],
   "source": [
    "def consolidate_files(parent_folders, subfolder_names, output_folder_name):\n",
    "# Iterate through each set of folders\n",
    "    for parent_folder in parent_folders:\n",
    "        output_folder=os.path.join(parent_folder,output_folder_name)\n",
    "  \n",
    "        # Ensure output_folder exists; create it if not\n",
    "        if not os.path.exists(output_folder):\n",
    "            os.makedirs(output_folder)\n",
    "            \n",
    "    \n",
    "        # Iterate through all folders in the parent_folder\n",
    "        for root, dirs, files in os.walk(parent_folder):\n",
    "            # Check if the subfolder_name is in the current directory\n",
    "        \n",
    "            for subfolder_name in subfolder_names:\n",
    "                output_subfolder = os.path.join(output_folder,subfolder_name)  \n",
    "           \n",
    "                if not os.path.exists(output_subfolder):\n",
    "                    os.makedirs(output_subfolder)\n",
    "                \n",
    "                if subfolder_name in dirs:\n",
    "                    subfolder_path = os.path.join(root, subfolder_name)\n",
    "                    # Skip the current iteration if output_folder_name is in the path\n",
    "                    if output_folder_name in os.path.join(root, subfolder_name):\n",
    "                        \n",
    "                        continue\n",
    "                        \n",
    "                    \n",
    "                    # Copy all files from the subfolder to the output_folder\n",
    "                    for filename in os.listdir(subfolder_path):\n",
    "                        #print(subfolder_path)\n",
    "                        file_path = os.path.join(subfolder_path, filename)\n",
    "                        shutil.copy(file_path, output_subfolder)\n",
    "\n",
    "data_folder_names = ['behav','img']\n",
    "output_folder_name = \"all\"\n",
    "\n",
    "consolidate_files(parent_folders, data_folder_names, output_folder_name)"
   ]
  },
  {
   "cell_type": "markdown",
   "id": "3fa65f4f",
   "metadata": {},
   "source": [
    "## 4. Combine (merge) `filetype` files, save the resulting concatenated file as `saveas_name`, and remove the original files that were used to create the merged file. (Optional, recommended) merge corresponding timestamps"
   ]
  },
  {
   "cell_type": "markdown",
   "id": "5e9e91c7",
   "metadata": {},
   "source": [
    "**Option to merge corresponding timestamps and position (ie DeepLabCut) data**"
   ]
  },
  {
   "cell_type": "code",
   "execution_count": 37,
   "id": "0d4aaf65",
   "metadata": {},
   "outputs": [
    {
     "name": "stdout",
     "output_type": "stream",
     "text": [
      "Sorted Timestamp Files:\n",
      "1_timeStamps.csv\n",
      "2_timeStamps.csv\n",
      "3_timeStamps.csv\n",
      "4_timeStamps.csv\n",
      "5_timeStamps.csv\n",
      "6_timeStamps.csv\n",
      "7_timeStamps.csv\n",
      "8_timeStamps.csv\n",
      "Concatenated, merged, and rounded timestamp file saved as 'timeStamps.csv'.\n"
     ]
    }
   ],
   "source": [
    "folders_with_data_to_merge = 'Z:\\\\CHRYSA\\\\WMT_UCLA\\\\DAT1\\\\B2_DAT1\\\\all\\\\behav'                              \n",
    "\n",
    "filetype='avi'\n",
    "saveas_name=['B2_DAT1']\n",
    "merge_timestamps= True\n",
    "merge_position_data=False #for DeepLabCut for example\n",
    "\n",
    "\n",
    "#dataOrg.concatenate_videos(folders_with_data_to_merge, filetype, saveas_name)\n",
    "\n",
    "if merge_timestamps:\n",
    "    dataOrg.concatenate_timestamp_files(folders_with_data_to_merge, file_extension='_timeStamps.csv')\n",
    "    \n",
    "if merge_position_data:\n",
    "    dataOrg.concatenate_h5_files(folders_with_data_to_merge, file_extension='.h5')"
   ]
  },
  {
   "cell_type": "markdown",
   "id": "268fad48",
   "metadata": {},
   "source": [
    "## (Optional) Move data:"
   ]
  },
  {
   "cell_type": "code",
   "execution_count": null,
   "id": "ef1b8d87",
   "metadata": {},
   "outputs": [],
   "source": [
    "input_directory=''\n",
    "output_directory=''\n",
    "dataOrg.move_data_folders(input_directory, output_directory)\n"
   ]
  },
  {
   "cell_type": "code",
   "execution_count": null,
   "id": "0af04e79",
   "metadata": {},
   "outputs": [],
   "source": []
  }
 ],
 "metadata": {
  "kernelspec": {
   "display_name": "Python 3 (ipykernel)",
   "language": "python",
   "name": "python3"
  },
  "language_info": {
   "codemirror_mode": {
    "name": "ipython",
    "version": 3
   },
   "file_extension": ".py",
   "mimetype": "text/x-python",
   "name": "python",
   "nbconvert_exporter": "python",
   "pygments_lexer": "ipython3",
   "version": "3.11.5"
  }
 },
 "nbformat": 4,
 "nbformat_minor": 5
}
