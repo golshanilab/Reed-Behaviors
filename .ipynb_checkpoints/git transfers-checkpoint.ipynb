{
 "cells": [
  {
   "cell_type": "code",
   "execution_count": 9,
   "id": "bfc925be-f2cb-4a92-8715-463327abf39b",
   "metadata": {},
   "outputs": [
    {
     "name": "stdout",
     "output_type": "stream",
     "text": [
      "Cloning into 'Reed-Behaviors'...\n",
      "remote: Enumerating objects: 12, done.\u001b[K\n",
      "remote: Counting objects: 100% (12/12), done.\u001b[K\n",
      "remote: Compressing objects: 100% (12/12), done.\u001b[K\n",
      "remote: Total 12 (delta 4), reused 1 (delta 0), pack-reused 0\u001b[K\n",
      "Receiving objects: 100% (12/12), 116.52 KiB | 408.00 KiB/s, done.\n",
      "Resolving deltas: 100% (4/4), done.\n"
     ]
    }
   ],
   "source": [
    "# Navigate to the folder you want to add to the repository\n",
    "!cd /Users/samaramiller\n",
    "\n",
    "# Initialize a Git repository if not already done\n",
    "!git clone https://github.com/golshanilab/Reed-Behaviors.git"
   ]
  },
  {
   "cell_type": "code",
   "execution_count": 14,
   "id": "b4032947-5ede-4c98-892f-4f395a931f06",
   "metadata": {},
   "outputs": [
    {
     "name": "stdout",
     "output_type": "stream",
     "text": [
      "fatal: 'notebooks' already exists in the index\n"
     ]
    }
   ],
   "source": [
    "!git submodule add https://github.com/golshanilab/Reed-Behaviors.git notebooks"
   ]
  },
  {
   "cell_type": "code",
   "execution_count": 19,
   "id": "7e76715c-61cc-47ed-a7f0-3de88819ae67",
   "metadata": {},
   "outputs": [],
   "source": [
    "# Add the files and changes you want to commit\n",
    "!git add ."
   ]
  },
  {
   "cell_type": "code",
   "execution_count": 20,
   "id": "0de577a9-f8f7-46ba-bdec-d422cd86a7ad",
   "metadata": {},
   "outputs": [
    {
     "name": "stdout",
     "output_type": "stream",
     "text": [
      "[main c6e113d] Reorganized files and notebooks. Added behavioral schedule generator for planning experiments using cohort size and trial info\n",
      " 1 file changed, 41 insertions(+), 5 deletions(-)\n"
     ]
    }
   ],
   "source": [
    "# Commit the changes\n",
    "!git commit -m \"Reorganized files and notebooks. Added behavioral schedule generator for planning experiments using cohort size and trial info\"\n",
    "\n"
   ]
  },
  {
   "cell_type": "code",
   "execution_count": 21,
   "id": "13e22d45-516c-48de-9912-08a0975cec0e",
   "metadata": {},
   "outputs": [
    {
     "name": "stdout",
     "output_type": "stream",
     "text": [
      "fatal: The current branch main has no upstream branch.\n",
      "To push the current branch and set the remote as upstream, use\n",
      "\n",
      "    git push --set-upstream origin main\n",
      "\n",
      "To have this happen automatically for branches without a tracking\n",
      "upstream, see 'push.autoSetupRemote' in 'git help config'.\n",
      "\n"
     ]
    }
   ],
   "source": [
    "!git push"
   ]
  },
  {
   "cell_type": "code",
   "execution_count": 17,
   "id": "04a4e2c3-b284-478c-8e2f-2d9b7f86187b",
   "metadata": {},
   "outputs": [
    {
     "name": "stdout",
     "output_type": "stream",
     "text": [
      "Username for 'https://github.com': ^C\n"
     ]
    }
   ],
   "source": [
    "!git push --set-upstream origin main"
   ]
  },
  {
   "cell_type": "code",
   "execution_count": null,
   "id": "fb051d03-378d-4550-aee9-358b87581339",
   "metadata": {},
   "outputs": [
    {
     "name": "stdout",
     "output_type": "stream",
     "text": [
      "hint: Waiting for your editor to close the file... \u001b7\u001b[?47h\u001b[>4;2m\u001b[?1h\u001b=\u001b[?2004h\u001b[?1004h\u001b[1;24r\u001b[?12h\u001b[?12l\u001b[22;2t\u001b[22;1t\u001b[29m\u001b[m\u001b[H\u001b[2J\u001b[?25l\u001b[24;1H\"~/Reed/general/.git/COMMIT_EDITMSG\" 24L, 893B\u001b[2;1H▽\u001b[6n\u001b[2;1H  \u001b[3;1H\u001bPzz\u001b\\\u001b[0%m\u001b[6n\u001b[3;1H           \u001b[1;1H\u001b[>c\u001b]10;?\u0007\u001b]11;?\u0007\u001b[1;1HGeneral and misc scripts - behavioral schedule generator for planning experimentt\u001b[2;1Hs\u001b[2;2H\u001b[K\u001b[3;1H\u001b[K\u001b[4;1H# Please enter the commit message for your changes. Lines starting\n",
      "# with '#' will be ignored, and an empty message aborts the commit.\n",
      "#\n",
      "# Committer: Samara Miller <samaramiller@Samaras-MacBook-Pro.local>\n",
      "#\n",
      "# On branch main\n",
      "#\n",
      "# Initial commit\n",
      "#\n",
      "# Changes to be committed:\n",
      "#\u001b[7Cnew file:   .ipynb_checkpoints/git transfers-checkpoint.ipynb\n",
      "#\u001b[7Cnew file:   .ipynb_checkpoints/schedule generator-checkpoint.ipynb\n",
      "#\u001b[7Cnew file:   custom_modules/.ipynb_checkpoints/my_functions-checkpoint.py\u001b[17;1H#\u001b[7Cnew file:   custom_modules/__pycache__/my_functions.cpython-312.pyc\n",
      "#\u001b[7Cnew file:   custom_modules/__pycache__/my_functions1.cpython-312.pyc\n",
      "#\u001b[7Cnew file:   custom_modules/my_functions.py\n",
      "#\u001b[7Cnew file:   git transfers.ipynb\n",
      "#\u001b[7Cnew file:   schedule generator.ipynb\n",
      "#\n",
      "# Changes not staged for commit:\u001b[1;1H\u001b[?25h"
     ]
    }
   ],
   "source": [
    "#Resetting github account? I think\n",
    "!git commit --amend --reset-author\n"
   ]
  },
  {
   "cell_type": "code",
   "execution_count": null,
   "id": "5b555a20-093b-4ab8-824e-2d3a009acfda",
   "metadata": {},
   "outputs": [],
   "source": [
    "!git submodule add https://github.com/username/repo.git my_submodule\n"
   ]
  }
 ],
 "metadata": {
  "kernelspec": {
   "display_name": "Python 3 (ipykernel)",
   "language": "python",
   "name": "python3"
  },
  "language_info": {
   "codemirror_mode": {
    "name": "ipython",
    "version": 3
   },
   "file_extension": ".py",
   "mimetype": "text/x-python",
   "name": "python",
   "nbconvert_exporter": "python",
   "pygments_lexer": "ipython3",
   "version": "3.9.7"
  }
 },
 "nbformat": 4,
 "nbformat_minor": 5
}
