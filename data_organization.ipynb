{
 "cells": [
  {
   "cell_type": "code",
   "execution_count": 1,
   "id": "cf916879-a88d-4166-bbce-977e38232df4",
   "metadata": {},
   "outputs": [],
   "source": [
    "%%capture\n",
    "%load_ext autoreload\n",
    "%autoreload 2\n",
    "import os\n",
    "import shutil\n",
    "from natsort import natsorted\n",
    "import cv2\n",
    "import data_org2_functions as dataOrg"
   ]
  },
  {
   "cell_type": "markdown",
   "id": "e0080b5b",
   "metadata": {},
   "source": [
    "## 1. Set directory and save parameters:"
   ]
  },
  {
   "cell_type": "markdown",
   "id": "38c38f46",
   "metadata": {},
   "source": [
    "Set the `parent_folders` which should include multiple subfolders containing imaging and behavior data folders. Ensure consistent naming of data folders using `data_folder_names` (such as 'behav' and 'img').\n",
    "\n",
    "<div class=\"alert alert-info\">\n",
    "<strong>folder structure</strong>\n",
    "\n",
    "```\n",
    "Mouse1  [parent_folder]\n",
    "└─────11_30_00   [subfolder within parent_folder]\n",
    "│       │   behav  [data_folder_names]\n",
    "│       │   img    [data_folder_names]\n",
    "│    \n",
    "└─────11_45_00   [subfolder within parent_folder]\n",
    "│       │   behav  [data_folder_names]\n",
    "│       │   img    [data_folder_names]\n",
    "\n",
    "```\n",
    "</div>"
   ]
  },
  {
   "cell_type": "code",
   "execution_count": null,
   "id": "50fa9946",
   "metadata": {},
   "outputs": [],
   "source": [
    "parent_folders = ['Z:\\\\DPC HONGWEI COLAB\\\\DP2',\n",
    "                  'Z:\\\\DPC HONGWEI COLAB\\\\DP3',\n",
    "                  'Z:\\\\DPC HONGWEI COLAB\\\\DP4',\n",
    "                  'Z:\\\\DPC HONGWEI COLAB\\\\DP5',\n",
    "                  'Z:\\\\DPC HONGWEI COLAB\\\\DP6'\n",
    "                  \n",
    "                 ]\n",
    "\n",
    "data_folder_names = ['behav','img']\n",
    "\n",
    "output_folder_name = \"all\"\n",
    "\n",
    "filetype= 'avi'\n",
    "\n",
    "\n",
    "#If the saveas_name isn't right, try alternate folder name extraction to get differen part of path name\n",
    "#saveas_name=dataOrg.get_basenames_of_folders_within_parent_folder(parent_folders) #extracts the name of folder containing img and behav to use for naming merged files\n",
    "\n",
    "#If the saveas_name isn't right, try alternate folder name extraction to get differen part of path name\n",
    "saveas_name=dataOrg.get_basenames_of_folders_within_parent_folder_alternate(parent_folders) #extracts the name of folder containing img and behav to use for naming merged files\n",
    "\n",
    "print(saveas_name)"
   ]
  },
  {
   "cell_type": "markdown",
   "id": "19720c21",
   "metadata": {},
   "source": [
    "## 2. Rename behavior and imaging files: "
   ]
  },
  {
   "cell_type": "markdown",
   "id": "9fc1eecf",
   "metadata": {},
   "source": [
    "Subfolders within `parent_folders` will be categorized and given an index. Within each subfolder, ensure consistent naming of subfolders using `data_folder_names` (such as 'behav' and 'img') where the files requiring renaming are stored. The renaming process will be based on the assigned subfolder index."
   ]
  },
  {
   "cell_type": "code",
   "execution_count": null,
   "id": "5c1ea6fe",
   "metadata": {},
   "outputs": [],
   "source": [
    "dataOrg.rename_files_with_prefix(parent_folders, data_folder_names)"
   ]
  },
  {
   "cell_type": "markdown",
   "id": "719b910f",
   "metadata": {},
   "source": [
    "## 3. Consolidate re-named files into `output_folder`:"
   ]
  },
  {
   "cell_type": "code",
   "execution_count": null,
   "id": "fd453b30",
   "metadata": {},
   "outputs": [],
   "source": [
    "parent_folders = ['Z:\\\\DPC HONGWEI COLAB\\\\DP3'                                 \n",
    "                 ]\n",
    "filetype='avi'\n",
    "saveas_name= ['DP3']\n",
    "data_folder_names = ['behav']\n",
    "\n",
    "output_folder_name = \"all\"\n",
    "\n",
    "dataOrg.consolidate_files(parent_folders, data_folder_names, output_folder_name)"
   ]
  },
  {
   "cell_type": "markdown",
   "id": "3fa65f4f",
   "metadata": {},
   "source": [
    "## 4. Combine (merge) `filetype` files, save the resulting concatenated file as `saveas_name`, and remove the original files that were used to create the merged file. (Optional, recommended) merge corresponding timestamps"
   ]
  },
  {
   "cell_type": "markdown",
   "id": "5e9e91c7",
   "metadata": {},
   "source": [
    "**Option to merge corresponding timestamps and position (ie DeepLabCut) data**"
   ]
  },
  {
   "cell_type": "code",
   "execution_count": 2,
   "id": "0d4aaf65",
   "metadata": {},
   "outputs": [
    {
     "name": "stdout",
     "output_type": "stream",
     "text": [
      "['1_0.avi', '1_1.avi', '1_2.avi', '1_3.avi', '2_0.avi', '2_1.avi', '2_2.avi', '2_3.avi', '2_4.avi', '2_5.avi', '3_0.avi', '3_1.avi', '3_2.avi', '3_3.avi', '3_4.avi', '3_5.avi', '3_6.avi', '3_7.avi', '3_8.avi', '3_9.avi', '3_10.avi', '3_11.avi', '3_12.avi', '3_13.avi', '3_14.avi', '3_15.avi', '3_16.avi', '3_17.avi', '3_18.avi', '3_19.avi', '3_20.avi', '3_21.avi', '4_0.avi', '4_1.avi', '4_2.avi', '4_3.avi', '4_4.avi', '4_5.avi', '4_6.avi', '4_7.avi', '4_8.avi', '4_9.avi', '4_10.avi', '4_11.avi', '4_12.avi', '4_13.avi', '4_14.avi']\n",
      "Concatenated video for behav saved as DP3_behav_original.avi in Z:\\DPC HONGWEI COLAB\\DP3\\all\\behav\n",
      "Downsampled video for behav saved as DP3_behav_downsampled.avi in Z:\\DPC HONGWEI COLAB\\DP3\\all\\behav\n"
     ]
    }
   ],
   "source": [
    "folders_with_data_to_merge = ['Z:\\\\DPC HONGWEI COLAB\\\\DP3\\\\all\\\\behav'                                 \n",
    "                 ]\n",
    "filetype='avi'\n",
    "saveas_name= ['DP3']\n",
    "merge_timestamps= False\n",
    "merge_position_data=False\n",
    "\n",
    "\n",
    "dataOrg.concatenate_videos(folders_with_data_to_merge, filetype, saveas_name)\n",
    "\n",
    "if merge_timestamps:\n",
    "    dataOrg.concatenate_timestamp_files(folders_with_data_to_merge, file_extension='_timeStamps.csv')\n",
    "    \n",
    "if merge_position_data:\n",
    "    dataOrg.concatenate_h5_files(folders_with_data_to_merge, file_extension='.h5')"
   ]
  },
  {
   "cell_type": "markdown",
   "id": "268fad48",
   "metadata": {},
   "source": [
    "## (Optional) Move data:"
   ]
  },
  {
   "cell_type": "code",
   "execution_count": null,
   "id": "ef1b8d87",
   "metadata": {},
   "outputs": [],
   "source": [
    "input_directory=''\n",
    "output_directory=''\n",
    "dataOrg.move_data_folders(input_directory, output_directory)\n"
   ]
  },
  {
   "cell_type": "code",
   "execution_count": null,
   "id": "0af04e79",
   "metadata": {},
   "outputs": [],
   "source": []
  }
 ],
 "metadata": {
  "kernelspec": {
   "display_name": "Python 3 (ipykernel)",
   "language": "python",
   "name": "python3"
  },
  "language_info": {
   "codemirror_mode": {
    "name": "ipython",
    "version": 3
   },
   "file_extension": ".py",
   "mimetype": "text/x-python",
   "name": "python",
   "nbconvert_exporter": "python",
   "pygments_lexer": "ipython3",
   "version": "3.8.15"
  }
 },
 "nbformat": 4,
 "nbformat_minor": 5
}
