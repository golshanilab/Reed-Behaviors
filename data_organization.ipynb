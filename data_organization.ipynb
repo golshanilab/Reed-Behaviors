{
 "cells": [
  {
   "cell_type": "code",
   "execution_count": 1,
   "id": "cf916879-a88d-4166-bbce-977e38232df4",
   "metadata": {
    "scrolled": false
   },
   "outputs": [],
   "source": [
    "%%capture\n",
    "%load_ext autoreload\n",
    "%autoreload 2\n",
    "import os\n",
    "import shutil\n",
    "from natsort import natsorted\n",
    "import cv2\n",
    "import data_organization2_functions as dataOrg\n",
    "from dask.distributed import Client, LocalCluster\n",
    "import pandas as pd"
   ]
  },
  {
   "cell_type": "markdown",
   "id": "e0080b5b",
   "metadata": {},
   "source": [
    "## 1. Set directory and save parameters:"
   ]
  },
  {
   "cell_type": "markdown",
   "id": "38c38f46",
   "metadata": {},
   "source": [
    "Set the `parent_folders` which should include multiple subfolders containing imaging and behavior data folders. Ensure consistent naming of data folders using `data_folder_names` (such as 'behav' and 'img').\n",
    "\n",
    "<div class=\"alert alert-info\">\n",
    "<strong>folder structure</strong>\n",
    "\n",
    "```\n",
    "Mouse1  [parent_folder]\n",
    "└─────11_30_00   [subfolder within parent_folder]\n",
    "│       │   behav  [data_folder_names]\n",
    "│       │   img    [data_folder_names]\n",
    "│    \n",
    "└─────11_45_00   [subfolder within parent_folder]\n",
    "│       │   behav  [data_folder_names]\n",
    "│       │   img    [data_folder_names]\n",
    "\n",
    "```\n",
    "</div>"
   ]
  },
  {
   "cell_type": "code",
   "execution_count": null,
   "id": "50fa9946",
   "metadata": {},
   "outputs": [],
   "source": [
    "#parent_folders = [ 'Z:\\\\CHRYSA\\\\WMT_UCLA\\\\R2_DAT2']\n",
    "\n",
    "# Specify the root folder\n",
    "root_folder = 'Z:\\\\CHRYSA\\\\WMT_UCLA\\\\LRD'\n",
    "\n",
    "# Get a list of all subfolders within the root folder\n",
    "all_subfolders = [os.path.join(root_folder, folder) for folder in os.listdir(root_folder) if os.path.isdir(os.path.join(root_folder, folder))]\n",
    "\n",
    "# Use the list of subfolders for parent_folders\n",
    "parent_folders = all_subfolders\n",
    "\n",
    "data_folder_names = ['behav','img']\n",
    "\n",
    "output_folder_name = \"all\"\n",
    "\n",
    "filetype= 'avi'\n",
    "\n",
    "\n",
    "#If the saveas_name isn't right, try alternate folder name extraction to get differen part of path name\n",
    "saveas_name=dataOrg.get_basenames_of_folders_within_parent_folder_chrysa(parent_folders)\n",
    "\n",
    "print(saveas_name)"
   ]
  },
  {
   "cell_type": "markdown",
   "id": "19720c21",
   "metadata": {},
   "source": [
    "## 2. Rename behavior and imaging files: "
   ]
  },
  {
   "cell_type": "markdown",
   "id": "9fc1eecf",
   "metadata": {},
   "source": [
    "Subfolders within `parent_folders` will be categorized and given an index. Within each subfolder, ensure consistent naming of subfolders using `data_folder_names` (such as 'behav' and 'img') where the files requiring renaming are stored. The renaming process will be based on the assigned subfolder index."
   ]
  },
  {
   "cell_type": "code",
   "execution_count": null,
   "id": "5c1ea6fe",
   "metadata": {
    "scrolled": true
   },
   "outputs": [],
   "source": [
    "dataOrg.rename_files_with_prefix(parent_folders, data_folder_names)"
   ]
  },
  {
   "cell_type": "markdown",
   "id": "719b910f",
   "metadata": {},
   "source": [
    "## 3. Consolidate re-named files into `output_folder`:"
   ]
  },
  {
   "cell_type": "code",
   "execution_count": null,
   "id": "fd453b30",
   "metadata": {},
   "outputs": [],
   "source": [
    "data_folder_names = ['behav','img']\n",
    "output_folder_name = \"all\"\n",
    "\n",
    "#dataOrg.consolidate_files(parent_folders, data_folder_names, output_folder_name)"
   ]
  },
  {
   "cell_type": "code",
   "execution_count": null,
   "id": "bf436564-7705-46bd-862a-90cd9c12775a",
   "metadata": {
    "scrolled": true
   },
   "outputs": [],
   "source": [
    "def consolidate_files(parent_folders, subfolder_names, output_folder_name):\n",
    "# Iterate through each set of folders\n",
    "    for parent_folder in parent_folders:\n",
    "        output_folder=os.path.join(parent_folder,output_folder_name)\n",
    "  \n",
    "        # Ensure output_folder exists; create it if not\n",
    "        if not os.path.exists(output_folder):\n",
    "            os.makedirs(output_folder)\n",
    "            \n",
    "    \n",
    "        # Iterate through all folders in the parent_folder\n",
    "        for root, dirs, files in os.walk(parent_folder):\n",
    "            # Check if the subfolder_name is in the current directory\n",
    "        \n",
    "            for subfolder_name in subfolder_names:\n",
    "                output_subfolder = os.path.join(output_folder,subfolder_name)  \n",
    "           \n",
    "                if not os.path.exists(output_subfolder):\n",
    "                    os.makedirs(output_subfolder)\n",
    "                \n",
    "                if subfolder_name in dirs:\n",
    "                    subfolder_path = os.path.join(root, subfolder_name)\n",
    "                    # Skip the current iteration if output_folder_name is in the path\n",
    "                    if output_folder_name in os.path.join(root, subfolder_name):\n",
    "                        \n",
    "                        continue\n",
    "                        \n",
    "                    \n",
    "                    # Copy all files from the subfolder to the output_folder\n",
    "                    for filename in os.listdir(subfolder_path):\n",
    "                        file_path = os.path.join(subfolder_path, filename)\n",
    "                        #print(f\"Copying {file_path} to {output_subfolder}\")\n",
    "                        try:\n",
    "                            shutil.copy(file_path, output_subfolder)\n",
    "                        except Exception as e:\n",
    "                            print(f\"Error copying {file_path}: {e}\")\n",
    "                                \n",
    "                # for filename in os.listdir(subfolder_path):\n",
    "                        #print(subfolder_path)\n",
    "                        #file_path = os.path.join(subfolder_path, filename)\n",
    "                        #shutil.copy(file_path, output_subfolder)\n",
    "\n",
    "data_folder_names = ['behav','img']\n",
    "output_folder_name = \"all\"\n",
    "\n",
    "consolidate_files(parent_folders, data_folder_names, output_folder_name)"
   ]
  },
  {
   "cell_type": "markdown",
   "id": "3fa65f4f",
   "metadata": {},
   "source": [
    "## 4. Combine (merge) `filetype` files, save the resulting concatenated file as `saveas_name`, and remove the original files that were used to create the merged file. (Optional, recommended) merge corresponding timestamps"
   ]
  },
  {
   "cell_type": "markdown",
   "id": "5e9e91c7",
   "metadata": {},
   "source": [
    "**Option to merge corresponding timestamps and position (ie DeepLabCut) data**"
   ]
  },
  {
   "cell_type": "code",
   "execution_count": 2,
   "id": "2b15e6ba",
   "metadata": {},
   "outputs": [],
   "source": [
    "n_workers = int(os.getenv(\"DATA_ORG\", 4))\n",
    "\n",
    "cluster = LocalCluster(\n",
    "    n_workers=n_workers,\n",
    "    memory_limit=\"30GB\",\n",
    "    resources={\"MEM\": 1},\n",
    "    threads_per_worker=2,\n",
    "    dashboard_address=\":8787\",\n",
    ")\n",
    "\n",
    "client = Client(cluster)"
   ]
  },
  {
   "cell_type": "code",
   "execution_count": null,
   "id": "0d4aaf65",
   "metadata": {
    "scrolled": true
   },
   "outputs": [
    {
     "name": "stdout",
     "output_type": "stream",
     "text": [
      "['1_0.avi', '1_1.avi', '1_2.avi', '1_3.avi', '1_4.avi', '1_5.avi', '1_6.avi', '1_7.avi', '1_8.avi', '1_9.avi', '1_10.avi', '1_11.avi', '2_0.avi', '2_1.avi', '2_2.avi', '2_3.avi', '2_4.avi', '2_5.avi', '2_6.avi', '2_7.avi', '2_8.avi', '2_9.avi', '2_10.avi', '2_11.avi', '2_12.avi', '2_13.avi', '3_0.avi', '3_1.avi', '3_2.avi', '3_3.avi', '3_4.avi', '3_5.avi', '3_6.avi', '3_7.avi', '3_8.avi', '3_9.avi', '3_10.avi', '3_11.avi', '3_12.avi', '3_13.avi', '3_14.avi']\n"
     ]
    }
   ],
   "source": [
    "#root_folder = 'Z:\\\\CHRYSA\\\\WMT_UCLA'\n",
    "#filetype = 'avi'\n",
    "#merge_timestamps = True\n",
    "#merge_position_data = False  # for DeepLabCut for example\n",
    "\n",
    "# Get a list of all subfolders within the root folder\n",
    "#all_subfolders = [os.path.join(root_folder, folder) for folder in os.listdir(root_folder) if os.path.isdir(os.path.join(root_folder, folder))]\n",
    "\n",
    "#for folder_path in all_subfolders:\n",
    "#    saveas_name = os.path.basename(folder_path)\n",
    "#   folders_with_data_to_merge = os.path.join(folder_path, 'all', 'behav')  # Adjust the path as needed\n",
    "    \n",
    "#    dataOrg.concatenate_videos(folders_with_data_to_merge, filetype, saveas_name)\n",
    "\n",
    "#    if merge_timestamps:\n",
    "#        dataOrg.concatenate_timestamp_files(folders_with_data_to_merge, file_extension='_timeStamps.csv')\n",
    "#\n",
    "#    if merge_position_data:\n",
    "#        dataOrg.concatenate_h5_files(folders_with_data_to_merge, file_extension='.h5')\n",
    "\n",
    "\n",
    "\n",
    "\n",
    "folders_with_data_to_merge = 'Z:\\\\CHRYSA\\\\WMT_UCLA\\\\B2\\\\B2_DAT2\\\\all\\\\behav'                             \n",
    "\n",
    "filetype='avi'\n",
    "saveas_name=['B2_DAT2']\n",
    "merge_timestamps= True\n",
    "merge_position_data=False #for DeepLabCut for example\n",
    "\n",
    "\n",
    "dataOrg.concatenate_videos(folders_with_data_to_merge, filetype, saveas_name)\n",
    "\n",
    "#if merge_timestamps:\n",
    "    #dataOrg.concatenate_timestamp_files(folders_with_data_to_merge, file_extension='_timeStamps.csv')\n",
    "    \n",
    "if merge_position_data:\n",
    "    dataOrg.concatenate_h5_files(folders_with_data_to_merge, file_extension='.h5')\n",
    "\n"
   ]
  },
  {
   "cell_type": "markdown",
   "id": "92842aa4",
   "metadata": {},
   "source": [
    "\n",
    "## 5. Downsample timeStamps.csv for LocationTracking alignment:\n"
   ]
  },
  {
   "cell_type": "code",
   "execution_count": null,
   "id": "0dca3ca6",
   "metadata": {},
   "outputs": [],
   "source": [
    "# Load the CSV file into a DataFrame\n",
    "file_path = 'Z:\\\\CHRYSA\\\\WMT_UCLA\\\\R2_DAT1\\\\all\\\\behav\\\\timeStamps.csv'\n",
    "df = pd.read_csv(file_path)\n",
    "\n",
    "# Convert 'timestamp' column to datetime if it's not already\n",
    "timestamps = df['merged_timestamps'] \n",
    "\n",
    "# Downsample by 2\n",
    "df_downsampled = df.iloc[::2]\n",
    "\n",
    "# Save the downsampled DataFrame to a new CSV file\n",
    "downsampled_file_path = 'Z:\\\\CHRYSA\\\\WMT_UCLA\\\\R2_DAT1\\\\all\\\\behav\\\\timeStamps_downsampled.csv'\n",
    "df_downsampled.to_csv(downsampled_file_path, index=False)"
   ]
  },
  {
   "cell_type": "markdown",
   "id": "268fad48",
   "metadata": {},
   "source": [
    "## 6. (Optional) Move data:"
   ]
  },
  {
   "cell_type": "code",
   "execution_count": null,
   "id": "ef1b8d87",
   "metadata": {},
   "outputs": [],
   "source": [
    "input_directory=''\n",
    "output_directory=''\n",
    "dataOrg.move_data_folders(input_directory, output_directory)\n"
   ]
  }
 ],
 "metadata": {
  "kernelspec": {
   "display_name": "Python 3 (ipykernel)",
   "language": "python",
   "name": "python3"
  },
  "language_info": {
   "codemirror_mode": {
    "name": "ipython",
    "version": 3
   },
   "file_extension": ".py",
   "mimetype": "text/x-python",
   "name": "python",
   "nbconvert_exporter": "python",
   "pygments_lexer": "ipython3",
   "version": "3.11.5"
  }
 },
 "nbformat": 4,
 "nbformat_minor": 5
}
