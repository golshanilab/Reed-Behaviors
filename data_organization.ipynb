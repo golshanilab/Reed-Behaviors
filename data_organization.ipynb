{
 "cells": [
  {
   "cell_type": "code",
   "execution_count": 22,
   "id": "cf916879-a88d-4166-bbce-977e38232df4",
   "metadata": {},
   "outputs": [],
   "source": [
    "%%capture\n",
    "%load_ext autoreload\n",
    "%autoreload 2\n",
    "import os\n",
    "import shutil\n",
    "from natsort import natsorted\n",
    "import cv2\n",
    "import data_organization_functions as dataOrg"
   ]
  },
  {
   "cell_type": "markdown",
   "id": "e0080b5b",
   "metadata": {},
   "source": [
    "## 1. Set directory and save parameters:"
   ]
  },
  {
   "cell_type": "markdown",
   "id": "38c38f46",
   "metadata": {},
   "source": [
    "Set the `parent_folders` which should include multiple subfolders containing imaging and behavior data folders. Ensure consistent naming of data folders using `data_folder_names` (such as 'behav' and 'img').\n",
    "\n",
    "<div class=\"alert alert-info\">\n",
    "<strong>folder structure</strong>\n",
    "\n",
    "```\n",
    "Mouse1  [parent_folder]\n",
    "└─────11_30_00   [subfolder within parent_folder]\n",
    "│       │   behav  [data_folder_names]\n",
    "│       │   img    [data_folder_names]\n",
    "│    \n",
    "└─────11_45_00   [subfolder within parent_folder]\n",
    "│       │   behav  [data_folder_names]\n",
    "│       │   img    [data_folder_names]\n",
    "\n",
    "```\n",
    "</div>"
   ]
  },
  {
   "cell_type": "code",
   "execution_count": 18,
   "id": "50fa9946",
   "metadata": {},
   "outputs": [
    {
     "name": "stdout",
     "output_type": "stream",
     "text": [
      "day2_pref\n"
     ]
    }
   ],
   "source": [
    "parent_folders = ['Z:\\\\Chrysa\\\\Hab2\\\\LR1_Hab2',\n",
    "                  'Z:\\\\Chrysa\\\\Hab2\\\\L1',\n",
    "                  'Z:\\\\Chrysa\\\\Hab2\\\\R1'                 \n",
    "                  \n",
    "                 ]\n",
    "data_folder_names = ['behav','img']\n",
    "\n",
    "output_folder_name = \"all\"\n",
    "\n",
    "filetype= 'avi'\n",
    "\n",
    "#saveas_name = 'day2_pref'\n",
    "\n",
    "saveas_name=dataOrg.get_basenames_of_folders_within_parent_folder(parent_folders) #extracts the name of folder containing img and behav to use for naming merged files\n",
    "\n",
    "print(saveas_name)"
   ]
  },
  {
   "cell_type": "markdown",
   "id": "19720c21",
   "metadata": {},
   "source": [
    "## 2. Rename behavior and imaging files: "
   ]
  },
  {
   "cell_type": "markdown",
   "id": "9fc1eecf",
   "metadata": {},
   "source": [
    "Subfolders within `parent_folders` will be categorized and given an index. Within each subfolder, ensure consistent naming of subfolders using `data_folder_names` (such as 'behav' and 'img') where the files requiring renaming are stored. The renaming process will be based on the assigned subfolder index."
   ]
  },
  {
   "cell_type": "code",
   "execution_count": null,
   "id": "5c1ea6fe",
   "metadata": {},
   "outputs": [],
   "source": [
    "dataOrg.rename_files_with_prefix(parent_folders, data_folder_names)"
   ]
  },
  {
   "cell_type": "markdown",
   "id": "719b910f",
   "metadata": {},
   "source": [
    "## 3. Consolidate re-named files into `output_folder`:"
   ]
  },
  {
   "cell_type": "code",
   "execution_count": 13,
   "id": "fd453b30",
   "metadata": {},
   "outputs": [],
   "source": [
    "dataOrg.consolidate_files(parent_folders, subfolder_names, output_folder_name)"
   ]
  },
  {
   "cell_type": "markdown",
   "id": "9cfa74a2",
   "metadata": {},
   "source": [
    "## 4. Combine (merge) `filetype` files, save the resulting concatenated file as `saveas_name`, and remove the original files that were used to create the merged file."
   ]
  },
  {
   "cell_type": "code",
   "execution_count": 20,
   "id": "0d4aaf65",
   "metadata": {},
   "outputs": [
    {
     "name": "stdout",
     "output_type": "stream",
     "text": [
      "['1_0.avi', '1_1.avi']\n",
      "Concatenated video for behav saved as d_behav_original.avi in Z:\\MATING HIPP CA2\\COHORT1\\MatingCohort1\\mouse82\\day2_pref\\all\\behav\n",
      "Downsampled video for behav saved as d_behav_downsampled.avi in Z:\\MATING HIPP CA2\\COHORT1\\MatingCohort1\\mouse82\\day2_pref\\all\\behav\n"
     ]
    }
   ],
   "source": [
    "consolidated_behavior_folders = ['Z:\\\\MATING HIPP CA2\\\\COHORT1\\\\MatingCohort1\\\\mouse82\\\\day2_pref\\\\all\\\\behav'\n",
    "                 ]\n",
    "dataOrg.concatenate_videos(consolidated_behavior_folders, filetype, saveas_name)"
   ]
  },
  {
   "cell_type": "markdown",
   "id": "268fad48",
   "metadata": {},
   "source": [
    "## (Optional) Move data:"
   ]
  },
  {
   "cell_type": "code",
   "execution_count": 26,
   "id": "ef1b8d87",
   "metadata": {},
   "outputs": [
    {
     "name": "stdout",
     "output_type": "stream",
     "text": [
      "Folder 'H:\\MATING HIPP CA2\\COHORT5 Matlab analysis\\F27 ss2' and its contents moved successfully to 'Z:\\temp'.\n"
     ]
    }
   ],
   "source": [
    "input_directory=''\n",
    "output_directory=''\n",
    "dataOrg.move_data_folders(input_directory, output_directory)\n"
   ]
  },
  {
   "cell_type": "code",
   "execution_count": null,
   "id": "0af04e79",
   "metadata": {},
   "outputs": [],
   "source": []
  }
 ],
 "metadata": {
  "kernelspec": {
   "display_name": "Python 3 (ipykernel)",
   "language": "python",
   "name": "python3"
  },
  "language_info": {
   "codemirror_mode": {
    "name": "ipython",
    "version": 3
   },
   "file_extension": ".py",
   "mimetype": "text/x-python",
   "name": "python",
   "nbconvert_exporter": "python",
   "pygments_lexer": "ipython3",
   "version": "3.8.15"
  }
 },
 "nbformat": 4,
 "nbformat_minor": 5
}
